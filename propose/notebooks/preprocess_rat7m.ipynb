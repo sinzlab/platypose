{
 "cells": [
  {
   "cell_type": "code",
   "execution_count": 1,
   "metadata": {
    "collapsed": true
   },
   "outputs": [],
   "source": [
    "%load_ext autoreload\n",
    "%autoreload 2\n",
    "\n",
    "import propose.preprocessing.rat7m as pp\n",
    "from propose.datasets.rat7m.loaders import load_mocap, load_cameras"
   ]
  },
  {
   "cell_type": "markdown",
   "source": [
    "# Preprocessing of the Rat7m dataset\n",
    "---\n",
    "## Config parameters"
   ],
   "metadata": {
    "collapsed": false,
    "pycharm": {
     "name": "#%% md\n"
    }
   }
  },
  {
   "cell_type": "code",
   "execution_count": 2,
   "outputs": [],
   "source": [
    "dirname = \"/Users/paulpierzchlewicz/PycharmProjects/propose/data/rat7m\"  # Choose this such that it points to your dataset\n",
    "data_key = \"s4-d1\"\n",
    "mocap_path = f\"{dirname}/mocap/mocap-{data_key}.mat\""
   ],
   "metadata": {
    "collapsed": false,
    "pycharm": {
     "name": "#%%\n"
    }
   }
  },
  {
   "cell_type": "markdown",
   "source": [
    "## Convert movies to images\n",
    "First we convert the movies to images"
   ],
   "metadata": {
    "collapsed": false,
    "pycharm": {
     "name": "#%% md\n"
    }
   }
  },
  {
   "cell_type": "code",
   "execution_count": 3,
   "outputs": [
    {
     "name": "stderr",
     "output_type": "stream",
     "text": [
      "Converting MP4 to JPG: 100%|██████████| 108/108 [00:02<00:00, 46.40it/s]"
     ]
    },
    {
     "name": "stdout",
     "output_type": "stream",
     "text": [
      "Images have been saved to: /Users/paulpierzchlewicz/PycharmProjects/propose/data/rat7m/images/s4-d1\n"
     ]
    },
    {
     "name": "stderr",
     "output_type": "stream",
     "text": [
      "\n"
     ]
    }
   ],
   "source": [
    "pp.convert_movies_to_images(dirname, data_key)"
   ],
   "metadata": {
    "collapsed": false,
    "pycharm": {
     "name": "#%%\n"
    }
   }
  },
  {
   "cell_type": "code",
   "execution_count": 3,
   "outputs": [],
   "source": [
    "mocap = load_mocap(mocap_path)\n",
    "cameras = load_cameras(mocap_path)"
   ],
   "metadata": {
    "collapsed": false,
    "pycharm": {
     "name": "#%%\n"
    }
   }
  },
  {
   "cell_type": "markdown",
   "source": [
    "## Mask the unnecessary poses"
   ],
   "metadata": {
    "collapsed": false,
    "pycharm": {
     "name": "#%% md\n"
    }
   }
  },
  {
   "cell_type": "code",
   "execution_count": 4,
   "outputs": [],
   "source": [
    "nan_mask = pp.mask_nans(mocap)\n",
    "fail_mask = pp.mask_marker_failure(mocap)\n",
    "\n",
    "mask = nan_mask + fail_mask\n",
    "\n",
    "mocap, cameras = pp.apply_mask(mask, mocap, cameras)"
   ],
   "metadata": {
    "collapsed": false,
    "pycharm": {
     "name": "#%%\n"
    }
   }
  },
  {
   "cell_type": "markdown",
   "source": [
    "## Save mocap and camera data"
   ],
   "metadata": {
    "collapsed": false,
    "pycharm": {
     "name": "#%% md\n"
    }
   }
  },
  {
   "cell_type": "code",
   "execution_count": 6,
   "outputs": [],
   "source": [
    "from pathlib import Path\n",
    "\n",
    "pose_dir = Path(f\"{dirname}/{data_key}/poses\")\n",
    "pose_dir.mkdir(parents=True, exist_ok=True)\n",
    "\n",
    "pose_path = pose_dir / f\"{data_key}.npy\"\n",
    "\n",
    "mocap.save(pose_path)"
   ],
   "metadata": {
    "collapsed": false,
    "pycharm": {
     "name": "#%%\n"
    }
   }
  },
  {
   "cell_type": "code",
   "execution_count": 7,
   "outputs": [],
   "source": [
    "import pickle\n",
    "\n",
    "camera_dir = Path(f\"{dirname}/{data_key}/cameras\")\n",
    "camera_dir.mkdir(parents=True, exist_ok=True)\n",
    "\n",
    "camera_path = camera_dir / f\"{data_key}.pickle\"\n",
    "\n",
    "with open(camera_path, \"wb\") as f:\n",
    "    pickle.dump(cameras, f)"
   ],
   "metadata": {
    "collapsed": false,
    "pycharm": {
     "name": "#%%\n"
    }
   }
  },
  {
   "cell_type": "code",
   "execution_count": 5,
   "outputs": [
    {
     "data": {
      "text/plain": "'rat7m'"
     },
     "execution_count": 5,
     "metadata": {},
     "output_type": "execute_result"
    }
   ],
   "source": [
    "from pathlib import PurePath\n",
    "\n",
    "PurePath(\"/Users/paulpierzchlewicz/PycharmProjects/propose/data/rat7m\").name"
   ],
   "metadata": {
    "collapsed": false,
    "pycharm": {
     "name": "#%%\n"
    }
   }
  },
  {
   "cell_type": "code",
   "execution_count": null,
   "outputs": [],
   "source": [],
   "metadata": {
    "collapsed": false,
    "pycharm": {
     "name": "#%%\n"
    }
   }
  }
 ],
 "metadata": {
  "kernelspec": {
   "display_name": "Python 3",
   "language": "python",
   "name": "python3"
  },
  "language_info": {
   "codemirror_mode": {
    "name": "ipython",
    "version": 2
   },
   "file_extension": ".py",
   "mimetype": "text/x-python",
   "name": "python",
   "nbconvert_exporter": "python",
   "pygments_lexer": "ipython2",
   "version": "2.7.6"
  }
 },
 "nbformat": 4,
 "nbformat_minor": 0
}